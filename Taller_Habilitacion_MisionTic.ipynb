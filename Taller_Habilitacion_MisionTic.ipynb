{
  "nbformat": 4,
  "nbformat_minor": 0,
  "metadata": {
    "colab": {
      "name": "Taller Habilitacion MisionTic.ipynb",
      "provenance": [],
      "include_colab_link": true
    },
    "kernelspec": {
      "name": "python3",
      "display_name": "Python 3"
    },
    "language_info": {
      "name": "python"
    }
  },
  "cells": [
    {
      "cell_type": "markdown",
      "metadata": {
        "id": "view-in-github",
        "colab_type": "text"
      },
      "source": [
        "<a href=\"https://colab.research.google.com/github/carivantelva/carivantelva/blob/main/Taller_Habilitacion_MisionTic.ipynb\" target=\"_parent\"><img src=\"https://colab.research.google.com/assets/colab-badge.svg\" alt=\"Open In Colab\"/></a>"
      ]
    },
    {
      "cell_type": "code",
      "execution_count": null,
      "metadata": {
        "id": "YO1M6mLEu85z"
      },
      "outputs": [],
      "source": [
        "import pandas as pd\n",
        "import json\n",
        "\n",
        "\n",
        "df = pd.read_csv(\"./GLOBANT.csv\")\n",
        "\n",
        "df_nuevo = pd.DataFrame()\n",
        "df_nuevo['Fecha'] = df['Date']\n",
        "df_nuevo['Comportamiento de la accion'] = None\n",
        "df_nuevo['Punto medio HIGH-LOW'] = None\n",
        "cantidad_veces_sube = 0\n",
        "cantidad_veces_baja = 0\n",
        "cantidad_veces_estable = 0\n",
        "\n",
        "for i in range(len(df)):\n",
        "  resultado_accion = df['Close'][i] - df['Open'][i]\n",
        "  if resultado_accion > 0:\n",
        "    df_nuevo['Comportamiento de la accion'][i] = 'SUBE'\n",
        "    cantidad_veces_sube += 1\n",
        "  if resultado_accion < 0:\n",
        "    df_nuevo['Comportamiento de la accion'][i] = 'BAJA'\n",
        "    cantidad_veces_baja += 1\n",
        "  if resultado_accion == 0:\n",
        "    df_nuevo['Comportamiento de la accion'][i] = 'ESTABLE'\n",
        "    cantidad_veces_estable += 1\n",
        "\n",
        "  punto_medio = (df['High'][i] - df['Low'][i])/2\n",
        "  df_nuevo['Punto medio HIGH-LOW'][i] = punto_medio\n",
        "\n",
        "\n",
        "df_nuevo.to_csv('analisis_archivo.csv',sep='\\t',index=False)\n",
        "\n",
        "lowest_price = df['Low'].min()\n",
        "for i in range(len(df)):\n",
        "  if df['Low'].min() == df['Low'][i]:\n",
        "    date_lowest_price = df['Date'][i]\n",
        "    break\n",
        "\n",
        "\n",
        "highest_price = df['High'].max()\n",
        "for i in range(len(df)):\n",
        "  if df['High'].max() == df['High'][i]:\n",
        "    date_highest_price = df['Date'][i]\n",
        "    break\n",
        "\n",
        "detalles = {\"date_lowest_price\": date_lowest_price,\n",
        "            \"lowest_price\": lowest_price,\n",
        "            \"date_highest_price\": date_highest_price,\n",
        "            \"highest_price\": highest_price,\n",
        "            \"cantidad_veces_sube\": cantidad_veces_sube,\n",
        "            \"cantidad_veces_baja\": cantidad_veces_baja,\n",
        "            \"cantidad_veces_estable\": cantidad_veces_estable}\n",
        "            \n",
        "\n",
        "with open('detalles.json', 'w') as json_file:\n",
        "  json.dump(detalles,json_file, indent = 1)\n"
      ]
    }
  ]
}