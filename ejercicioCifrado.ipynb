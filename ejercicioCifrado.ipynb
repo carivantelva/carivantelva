{
  "nbformat": 4,
  "nbformat_minor": 0,
  "metadata": {
    "colab": {
      "name": "ejercicioCifrado.ipynb",
      "provenance": [],
      "authorship_tag": "ABX9TyO7dTbiiQFD0kMg033TtKYs",
      "include_colab_link": true
    },
    "kernelspec": {
      "name": "python3",
      "display_name": "Python 3"
    },
    "language_info": {
      "name": "python"
    }
  },
  "cells": [
    {
      "cell_type": "markdown",
      "metadata": {
        "id": "view-in-github",
        "colab_type": "text"
      },
      "source": [
        "<a href=\"https://colab.research.google.com/github/carivantelva/carivantelva/blob/main/ejercicioCifrado.ipynb\" target=\"_parent\"><img src=\"https://colab.research.google.com/assets/colab-badge.svg\" alt=\"Open In Colab\"/></a>"
      ]
    },
    {
      "cell_type": "code",
      "execution_count": 3,
      "metadata": {
        "colab": {
          "base_uri": "https://localhost:8080/"
        },
        "id": "QdzPMppjSxjB",
        "outputId": "dab2f38a-3266-4396-e8ac-6f0a26532203"
      },
      "outputs": [
        {
          "output_type": "stream",
          "name": "stdout",
          "text": [
            "LZAL SLTZHPL LZ ZLJYLAV. \n"
          ]
        }
      ],
      "source": [
        "alfabeto= \"ABCDEFGHIJKLMNÑOPQRSTUVWXYZ\"\n",
        "mensaje = \"ESte mensaje es secreto. \"\n",
        "clave = 7\n",
        "cifrado = \"\"\n",
        "for letra in mensaje.upper():#pasar todas las letras de mensaje a mayusculas\n",
        "    if letra in alfabeto:\n",
        "        indice = alfabeto.find(letra)\n",
        "        indice += clave\n",
        "        if indice>= 27:\n",
        "            indice-=27\n",
        "        cifrado += alfabeto[indice]\n",
        "    else:\n",
        "        cifrado += letra\n",
        "\n",
        "print (cifrado)"
      ]
    }
  ]
}