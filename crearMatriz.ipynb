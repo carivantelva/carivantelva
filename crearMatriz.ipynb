{
  "nbformat": 4,
  "nbformat_minor": 0,
  "metadata": {
    "colab": {
      "name": "crearMatriz.ipynb",
      "provenance": [],
      "authorship_tag": "ABX9TyPcajDebePdKK6a/EkhNcO3",
      "include_colab_link": true
    },
    "kernelspec": {
      "name": "python3",
      "display_name": "Python 3"
    },
    "language_info": {
      "name": "python"
    }
  },
  "cells": [
    {
      "cell_type": "markdown",
      "metadata": {
        "id": "view-in-github",
        "colab_type": "text"
      },
      "source": [
        "<a href=\"https://colab.research.google.com/github/carivantelva/carivantelva/blob/main/crearMatriz.ipynb\" target=\"_parent\"><img src=\"https://colab.research.google.com/assets/colab-badge.svg\" alt=\"Open In Colab\"/></a>"
      ]
    },
    {
      "cell_type": "code",
      "execution_count": null,
      "metadata": {
        "id": "Tm4-Bc_La_vE"
      },
      "outputs": [],
      "source": [
        "#rellenar una matriz\n",
        "\n",
        "filas = int (input(\"Introduce numeros de filas: \"))\n",
        "columnas = int(input(\"introduce numero de columnas: \"))\n",
        "\n",
        "matriz=[]\n",
        "for i in range (filas):\n",
        "    matriz.append([])\n",
        "\n",
        "    for j in range (columnas) :\n",
        "        valor =float(input(\"Fila {}, Columna {} :\" .format(i+1, j+1))) \n",
        "        matriz[i].append(valor)\n",
        "\n",
        "\n",
        "    #print()\n",
        "for fila in matriz :\n",
        "    print (\"[\", end = \" \")\n",
        "    for elemento in fila :\n",
        "        print (\"{:8.2f}\" .format(elemento), end = \" \")\n",
        "    print(\"]\")\n",
        "    print()\n",
        "\n",
        "\n",
        "\n",
        "\n",
        "\n",
        "\n",
        "\n"
      ]
    },
    {
      "cell_type": "code",
      "source": [
        "#crear una matriz basico\n",
        "#creo una matriz 0 * 6 columnas y la multiplico * las filaque se requieran\n",
        "matriz_cero = [[1] * 6] * 5 \n",
        "\n",
        "#toda la matriz es la misma lista\n",
        "\n",
        "for fila in matriz_cero:\n",
        "  print(fila)\n"
      ],
      "metadata": {
        "id": "ni6YrJkLlIvo"
      },
      "execution_count": null,
      "outputs": []
    },
    {
      "cell_type": "code",
      "source": [
        "#crear una matriz real cada lista sea independiente\n",
        "\n",
        "matriz_cero = []\n",
        "for i in range(5):\n",
        "  matriz_cero.append([])\n",
        "  for j in range (5):\n",
        "    matriz_cero[i] .append(0)\n",
        "\n",
        "\n",
        "matriz_cero[1][2]= 4\n",
        "\n",
        "\n",
        "for fila in matriz_cero:\n",
        "  print(fila)\n"
      ],
      "metadata": {
        "colab": {
          "base_uri": "https://localhost:8080/"
        },
        "id": "xq1qK_BSqbT9",
        "outputId": "b5459cac-3e25-4ed6-9eb3-9684f565969b"
      },
      "execution_count": 24,
      "outputs": [
        {
          "output_type": "stream",
          "name": "stdout",
          "text": [
            "[0, 0, 0, 0, 0]\n",
            "[0, 0, 4, 0, 0]\n",
            "[0, 0, 0, 0, 0]\n",
            "[0, 0, 0, 0, 0]\n",
            "[0, 0, 0, 0, 0]\n"
          ]
        }
      ]
    }
  ]
}